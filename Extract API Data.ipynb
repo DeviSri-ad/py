{
 "cells": [
  {
   "cell_type": "markdown",
   "id": "86545a09",
   "metadata": {},
   "source": [
    "\n",
    "# Call the endpoint using requests library\n",
    "Using ExchangeRate-API extract currency exchange rate data."
   ]
  },
  {
   "cell_type": "code",
   "execution_count": 3,
   "id": "d7e96ed7",
   "metadata": {},
   "outputs": [],
   "source": [
    "#!mamba install pandas==1.3.3 -y\n",
    "#!mamba install requests==2.26.0 -y\n",
    "import requests\n",
    "import pandas as pd\n",
    "url = \"https://api.apilayer.com/exchangerates_data/latest?base=EUR&apikey=9R4iaQHnzXtTPsgZIhGrGBHkdTdvc6x2\" \n",
    "result = requests.get(url).text"
   ]
  },
  {
   "cell_type": "markdown",
   "id": "0ac5a9e4",
   "metadata": {},
   "source": [
    "# Save as DataFrame\n",
    "Using the data gathered turn it into a pandas dataframe. The dataframe should have the Currency as the index and Rate as their columns. Making sure to drop unnecessary columns"
   ]
  },
  {
   "cell_type": "code",
   "execution_count": 4,
   "id": "14134981",
   "metadata": {},
   "outputs": [
    {
     "data": {
      "text/html": [
       "<div>\n",
       "<style scoped>\n",
       "    .dataframe tbody tr th:only-of-type {\n",
       "        vertical-align: middle;\n",
       "    }\n",
       "\n",
       "    .dataframe tbody tr th {\n",
       "        vertical-align: top;\n",
       "    }\n",
       "\n",
       "    .dataframe thead th {\n",
       "        text-align: right;\n",
       "    }\n",
       "</style>\n",
       "<table border=\"1\" class=\"dataframe\">\n",
       "  <thead>\n",
       "    <tr style=\"text-align: right;\">\n",
       "      <th></th>\n",
       "      <th>success</th>\n",
       "      <th>timestamp</th>\n",
       "      <th>base</th>\n",
       "      <th>date</th>\n",
       "      <th>rates</th>\n",
       "    </tr>\n",
       "  </thead>\n",
       "  <tbody>\n",
       "    <tr>\n",
       "      <th>AED</th>\n",
       "      <td>True</td>\n",
       "      <td>1676587083</td>\n",
       "      <td>EUR</td>\n",
       "      <td>2023-02-16</td>\n",
       "      <td>3.919130</td>\n",
       "    </tr>\n",
       "    <tr>\n",
       "      <th>AFN</th>\n",
       "      <td>True</td>\n",
       "      <td>1676587083</td>\n",
       "      <td>EUR</td>\n",
       "      <td>2023-02-16</td>\n",
       "      <td>96.032642</td>\n",
       "    </tr>\n",
       "    <tr>\n",
       "      <th>ALL</th>\n",
       "      <td>True</td>\n",
       "      <td>1676587083</td>\n",
       "      <td>EUR</td>\n",
       "      <td>2023-02-16</td>\n",
       "      <td>115.560618</td>\n",
       "    </tr>\n",
       "    <tr>\n",
       "      <th>AMD</th>\n",
       "      <td>True</td>\n",
       "      <td>1676587083</td>\n",
       "      <td>EUR</td>\n",
       "      <td>2023-02-16</td>\n",
       "      <td>420.283756</td>\n",
       "    </tr>\n",
       "    <tr>\n",
       "      <th>ANG</th>\n",
       "      <td>True</td>\n",
       "      <td>1676587083</td>\n",
       "      <td>EUR</td>\n",
       "      <td>2023-02-16</td>\n",
       "      <td>1.923011</td>\n",
       "    </tr>\n",
       "  </tbody>\n",
       "</table>\n",
       "</div>"
      ],
      "text/plain": [
       "     success   timestamp base        date       rates\n",
       "AED     True  1676587083  EUR  2023-02-16    3.919130\n",
       "AFN     True  1676587083  EUR  2023-02-16   96.032642\n",
       "ALL     True  1676587083  EUR  2023-02-16  115.560618\n",
       "AMD     True  1676587083  EUR  2023-02-16  420.283756\n",
       "ANG     True  1676587083  EUR  2023-02-16    1.923011"
      ]
     },
     "execution_count": 4,
     "metadata": {},
     "output_type": "execute_result"
    }
   ],
   "source": [
    "# Turn the data into a dataframe\n",
    "import json\n",
    "data = json.loads(result)\n",
    "df = pd.DataFrame(data)\n",
    "df.head()"
   ]
  },
  {
   "cell_type": "code",
   "execution_count": 5,
   "id": "cc649074",
   "metadata": {},
   "outputs": [
    {
     "data": {
      "text/html": [
       "<div>\n",
       "<style scoped>\n",
       "    .dataframe tbody tr th:only-of-type {\n",
       "        vertical-align: middle;\n",
       "    }\n",
       "\n",
       "    .dataframe tbody tr th {\n",
       "        vertical-align: top;\n",
       "    }\n",
       "\n",
       "    .dataframe thead th {\n",
       "        text-align: right;\n",
       "    }\n",
       "</style>\n",
       "<table border=\"1\" class=\"dataframe\">\n",
       "  <thead>\n",
       "    <tr style=\"text-align: right;\">\n",
       "      <th></th>\n",
       "      <th>rates</th>\n",
       "    </tr>\n",
       "  </thead>\n",
       "  <tbody>\n",
       "    <tr>\n",
       "      <th>AED</th>\n",
       "      <td>3.919130</td>\n",
       "    </tr>\n",
       "    <tr>\n",
       "      <th>AFN</th>\n",
       "      <td>96.032642</td>\n",
       "    </tr>\n",
       "    <tr>\n",
       "      <th>ALL</th>\n",
       "      <td>115.560618</td>\n",
       "    </tr>\n",
       "    <tr>\n",
       "      <th>AMD</th>\n",
       "      <td>420.283756</td>\n",
       "    </tr>\n",
       "    <tr>\n",
       "      <th>ANG</th>\n",
       "      <td>1.923011</td>\n",
       "    </tr>\n",
       "    <tr>\n",
       "      <th>...</th>\n",
       "      <td>...</td>\n",
       "    </tr>\n",
       "    <tr>\n",
       "      <th>YER</th>\n",
       "      <td>267.074383</td>\n",
       "    </tr>\n",
       "    <tr>\n",
       "      <th>ZAR</th>\n",
       "      <td>19.369890</td>\n",
       "    </tr>\n",
       "    <tr>\n",
       "      <th>ZMK</th>\n",
       "      <td>9604.456579</td>\n",
       "    </tr>\n",
       "    <tr>\n",
       "      <th>ZMW</th>\n",
       "      <td>20.705009</td>\n",
       "    </tr>\n",
       "    <tr>\n",
       "      <th>ZWL</th>\n",
       "      <td>343.581675</td>\n",
       "    </tr>\n",
       "  </tbody>\n",
       "</table>\n",
       "<p>170 rows × 1 columns</p>\n",
       "</div>"
      ],
      "text/plain": [
       "           rates\n",
       "AED     3.919130\n",
       "AFN    96.032642\n",
       "ALL   115.560618\n",
       "AMD   420.283756\n",
       "ANG     1.923011\n",
       "..           ...\n",
       "YER   267.074383\n",
       "ZAR    19.369890\n",
       "ZMK  9604.456579\n",
       "ZMW    20.705009\n",
       "ZWL   343.581675\n",
       "\n",
       "[170 rows x 1 columns]"
      ]
     },
     "execution_count": 5,
     "metadata": {},
     "output_type": "execute_result"
    }
   ],
   "source": [
    "# Drop unnescessary columns\n",
    "df2 = df[['rates']]\n",
    "df2"
   ]
  },
  {
   "cell_type": "markdown",
   "id": "74d3ee33",
   "metadata": {},
   "source": [
    "# Load the Data\n",
    "Using the dataframe save it as a CSV names exchange_rates_1.csv"
   ]
  },
  {
   "cell_type": "code",
   "execution_count": 6,
   "id": "32315517",
   "metadata": {},
   "outputs": [],
   "source": [
    "# Save the Dataframe\n",
    "df2.to_csv(\"exchange_rates_1.csv\")"
   ]
  }
 ],
 "metadata": {
  "kernelspec": {
   "display_name": "Python 3 (ipykernel)",
   "language": "python",
   "name": "python3"
  },
  "language_info": {
   "codemirror_mode": {
    "name": "ipython",
    "version": 3
   },
   "file_extension": ".py",
   "mimetype": "text/x-python",
   "name": "python",
   "nbconvert_exporter": "python",
   "pygments_lexer": "ipython3",
   "version": "3.9.13"
  }
 },
 "nbformat": 4,
 "nbformat_minor": 5
}
